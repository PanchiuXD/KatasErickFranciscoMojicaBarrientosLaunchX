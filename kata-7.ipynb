{
 "cells": [
  {
   "cell_type": "markdown",
   "metadata": {},
   "source": [
    "actividad1\n"
   ]
  },
  {
   "cell_type": "code",
   "execution_count": 34,
   "metadata": {},
   "outputs": [
    {
     "name": "stdout",
     "output_type": "stream",
     "text": [
      "['p1', 'p2', 'p3', 'p4', 'p4', 'p5', 'p6', 'p7']\n"
     ]
    }
   ],
   "source": [
    "nuevo_planeta=''\n",
    "planetas = []\n",
    "\n",
    "\n",
    "\n",
    "while nuevo_planeta.lower() != 'salir':\n",
    "    if nuevo_planeta:\n",
    "        planetas.append(nuevo_planeta)\n",
    "    nuevo_planeta = input('ingresa nuevo planeta ')\n",
    "print (planetas)\n"
   ]
  },
  {
   "cell_type": "markdown",
   "metadata": {},
   "source": [
    "actividad2"
   ]
  },
  {
   "cell_type": "code",
   "execution_count": 35,
   "metadata": {},
   "outputs": [
    {
     "name": "stdout",
     "output_type": "stream",
     "text": [
      "p1\n",
      "p2\n",
      "p3\n",
      "p4\n",
      "p4\n",
      "p5\n",
      "p6\n",
      "p7\n"
     ]
    }
   ],
   "source": [
    "for planeta in planetas:\n",
    " print (planeta)"
   ]
  }
 ],
 "metadata": {
  "interpreter": {
   "hash": "73c40681d50b161cc710c5c962c3a5fc7a3a631626921c2f826a23ed9fecb651"
  },
  "kernelspec": {
   "display_name": "Python 3.10.2 64-bit",
   "language": "python",
   "name": "python3"
  },
  "language_info": {
   "codemirror_mode": {
    "name": "ipython",
    "version": 3
   },
   "file_extension": ".py",
   "mimetype": "text/x-python",
   "name": "python",
   "nbconvert_exporter": "python",
   "pygments_lexer": "ipython3",
   "version": "3.10.2"
  },
  "orig_nbformat": 4
 },
 "nbformat": 4,
 "nbformat_minor": 2
}
